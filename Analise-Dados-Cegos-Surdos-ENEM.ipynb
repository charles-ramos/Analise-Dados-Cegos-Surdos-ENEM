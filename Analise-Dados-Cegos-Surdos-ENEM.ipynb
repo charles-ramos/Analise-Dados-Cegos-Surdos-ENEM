{
 "cells": [
  {
   "cell_type": "code",
   "execution_count": 1,
   "metadata": {},
   "outputs": [],
   "source": [
    "import pandas as pd\n",
    "import matplotlib.pyplot as plt\n",
    "low_memory = False"
   ]
  },
  {
   "cell_type": "code",
   "execution_count": 8,
   "metadata": {},
   "outputs": [],
   "source": [
    "# declaraçãos das variáveis\n",
    "df_2016 = pd.read_csv(r'MICRODADOS_ENEM_2016.csv', delimiter= ';' , encoding='iso-8859-1', usecols=['IN_CEGUEIRA', 'IN_SURDEZ'])\n",
    "df_2017 = pd.read_csv(r'MICRODADOS_ENEM_2017.csv', delimiter= ';' , encoding='iso-8859-1', usecols=['IN_CEGUEIRA', 'IN_SURDEZ'])\n",
    "df_2018 = pd.read_csv(r'MICRODADOS_ENEM_2018.csv', delimiter= ';' , encoding='iso-8859-1', usecols=['IN_CEGUEIRA', 'IN_SURDEZ'])"
   ]
  },
  {
   "cell_type": "code",
   "execution_count": 9,
   "metadata": {},
   "outputs": [],
   "source": [
    "#Declarando váriaveis para produzir o gráfico\n",
    "def_2016 = (df_2016.query(\"IN_CEGUEIRA == 1\")[\"IN_CEGUEIRA\"].count())\n",
    "def_2016_2 = (df_2016.query(\"IN_SURDEZ == 1\")[\"IN_SURDEZ\"].count())\n",
    "def_2017 = (df_2017.query(\"IN_CEGUEIRA == 1\")[\"IN_CEGUEIRA\"].count())\n",
    "def_2017_2 = (df_2017.query(\"IN_SURDEZ == 1\")[\"IN_SURDEZ\"].count())\n",
    "def_2018 = (df_2018.query(\"IN_CEGUEIRA == 1\")[\"IN_CEGUEIRA\"].count())\n",
    "def_2018_2 = (df_2018.query(\"IN_SURDEZ == 1\")[\"IN_SURDEZ\"].count())"
   ]
  },
  {
   "cell_type": "code",
   "execution_count": 10,
   "metadata": {},
   "outputs": [
    {
     "name": "stdout",
     "output_type": "stream",
     "text": [
      "O número de cegos que realizaram o ENEM em 2016 foi de 1156.\n",
      "O número de surdos que realizaram o ENEM em 2016 foi de 2291.\n",
      "O número de cegos que realizaram o ENEM em 2017 foi de 884.\n",
      "O número de surdos que realizaram o ENEM em 2017 foi de 1925.\n",
      "O número de cegos que realizaram o ENEM em 2018 foi de 758.\n",
      "O número de surdos que realizaram o ENEM em 2018 foi de 1445.\n"
     ]
    }
   ],
   "source": [
    "print(f\"O número de cegos que realizaram o ENEM em 2016 foi de {def_2016}.\")\n",
    "print(f\"O número de surdos que realizaram o ENEM em 2016 foi de {def_2016_2}.\")\n",
    "print(f\"O número de cegos que realizaram o ENEM em 2017 foi de {def_2017}.\")\n",
    "print(f\"O número de surdos que realizaram o ENEM em 2017 foi de {def_2017_2}.\")\n",
    "print(f\"O número de cegos que realizaram o ENEM em 2018 foi de {def_2018}.\")\n",
    "print(f\"O número de surdos que realizaram o ENEM em 2018 foi de {def_2018_2}.\")"
   ]
  },
  {
   "cell_type": "code",
   "execution_count": 19,
   "metadata": {},
   "outputs": [
    {
     "data": {
      "image/png": "[encoded data removed]",
      "text/plain": [
       "<Figure size 432x288 with 1 Axes>"
      ]
     },
     "metadata": {
      "needs_background": "light"
     },
     "output_type": "display_data"
    }
   ],
   "source": [
    "x = ['2016', '2017', '2018']\n",
    "y = [(def_2016), (def_2017), (def_2018)]\n",
    "\n",
    "plt.title('Cegos que realizaram o ENEM')\n",
    "plt.xlabel('ANO')\n",
    "plt.ylabel('Deficientes Físicos')\n",
    "plt.bar(x, y)\n",
    "plt.show()"
   ]
  },
  {
   "cell_type": "code",
   "execution_count": 18,
   "metadata": {},
   "outputs": [
    {
     "data": {
      "image/png": "[encoded data removed]",
      "text/plain": [
       "<Figure size 432x288 with 1 Axes>"
      ]
     },
     "metadata": {
      "needs_background": "light"
     },
     "output_type": "display_data"
    }
   ],
   "source": [
    "x = ['2016', '2017', '2018']\n",
    "y = [(def_2016_2), (def_2017_2), (def_2018_2)]\n",
    "\n",
    "plt.title('Surdos que realizaram o ENEM')\n",
    "plt.xlabel('ANO')\n",
    "plt.ylabel('Deficientes Físicos')\n",
    "plt.bar(x, y)\n",
    "plt.show()"
   ]
  }
 ],
 "metadata": {
  "kernelspec": {
   "display_name": "Python 3",
   "language": "python",
   "name": "python3"
  },
  "language_info": {
   "codemirror_mode": {
    "name": "ipython",
    "version": 3
   },
   "file_extension": ".py",
   "mimetype": "text/x-python",
   "name": "python",
   "nbconvert_exporter": "python",
   "pygments_lexer": "ipython3",
   "version": "3.7.4"
  }
 },
 "nbformat": 4,
 "nbformat_minor": 2
}
